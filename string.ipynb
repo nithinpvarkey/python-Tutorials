{
  "nbformat": 4,
  "nbformat_minor": 0,
  "metadata": {
    "colab": {
      "provenance": [],
      "toc_visible": true,
      "authorship_tag": "ABX9TyOgR/gx41c+4AFOACbfhcCe",
      "include_colab_link": true
    },
    "kernelspec": {
      "name": "python3",
      "display_name": "Python 3"
    },
    "language_info": {
      "name": "python"
    }
  },
  "cells": [
    {
      "cell_type": "markdown",
      "metadata": {
        "id": "view-in-github",
        "colab_type": "text"
      },
      "source": [
        "<a href=\"https://colab.research.google.com/github/nithinpvarkey/python-Tutorials/blob/main/string.ipynb\" target=\"_parent\"><img src=\"https://colab.research.google.com/assets/colab-badge.svg\" alt=\"Open In Colab\"/></a>"
      ]
    },
    {
      "cell_type": "markdown",
      "source": [
        "# **Python Tutorials**"
      ],
      "metadata": {
        "id": "xaX1370iY2xj"
      }
    },
    {
      "cell_type": "markdown",
      "source": [
        "1. **String data**"
      ],
      "metadata": {
        "id": "0nvtzEozYsDE"
      }
    },
    {
      "cell_type": "code",
      "execution_count": 13,
      "metadata": {
        "colab": {
          "base_uri": "https://localhost:8080/"
        },
        "id": "efOPtGBvVlJS",
        "outputId": "ca2b7913-c599-4fb2-b083-81a6f443afd7"
      },
      "outputs": [
        {
          "output_type": "stream",
          "name": "stdout",
          "text": [
            "hello world\n"
          ]
        }
      ],
      "source": [
        "# using variable to store textual data( string)\n",
        "message = \"hello world\"\n",
        "print(message)"
      ]
    },
    {
      "cell_type": "code",
      "source": [
        "#length of the srting\n",
        "\n",
        "len(message)\n",
        "print(len(message))\n"
      ],
      "metadata": {
        "colab": {
          "base_uri": "https://localhost:8080/"
        },
        "id": "oor0edjtbYmd",
        "outputId": "d9f90f3d-0c75-4454-b549-4fa1b4e49fcb"
      },
      "execution_count": 10,
      "outputs": [
        {
          "output_type": "execute_result",
          "data": {
            "text/plain": [
              "12"
            ]
          },
          "metadata": {},
          "execution_count": 10
        }
      ]
    },
    {
      "cell_type": "code",
      "source": [
        "#access the characters in the string( slicing)\n",
        "message[0]\n",
        "message[0:5]\n",
        "message[:5]"
      ],
      "metadata": {
        "colab": {
          "base_uri": "https://localhost:8080/",
          "height": 35
        },
        "id": "nZBclx4rcM5r",
        "outputId": "e80d2ee3-37e1-449d-8025-dc2852a065dd"
      },
      "execution_count": 18,
      "outputs": [
        {
          "output_type": "execute_result",
          "data": {
            "text/plain": [
              "'hello'"
            ],
            "application/vnd.google.colaboratory.intrinsic+json": {
              "type": "string"
            }
          },
          "metadata": {},
          "execution_count": 18
        }
      ]
    },
    {
      "cell_type": "code",
      "source": [
        "## function  vs method :  method is the function that belong to an object\n",
        "\n",
        "\n",
        "message.upper()\n",
        "message.count(\"world\")\n",
        "message.find(\"world\")\n",
        "\n",
        "# replace the value\n",
        "new_message = message.replace(\"world\",\"london\")\n",
        "new_message\n",
        "\n",
        "## add multiple string and concatenate together\n",
        "greeting = \"hello\"\n",
        "name = \"london\"\n",
        "message_1 = greeting +\" \" + name\n",
        "print(message_1)\n",
        "\n",
        "\n"
      ],
      "metadata": {
        "colab": {
          "base_uri": "https://localhost:8080/"
        },
        "id": "1k4ebCGEdbe2",
        "outputId": "ed2e511c-a9de-4799-822e-c590b4d8f841"
      },
      "execution_count": 30,
      "outputs": [
        {
          "output_type": "stream",
          "name": "stdout",
          "text": [
            "hello london\n"
          ]
        }
      ]
    },
    {
      "cell_type": "code",
      "source": [
        "# formatted string\n",
        "message_1 = '{} {}'.format(greeting,name)\n",
        "#message_1\n",
        "\n",
        "## f string method\n",
        "message_2 = f'{greeting} {name}'\n",
        "examples = f'{greeting} {name.upper()}' # in the \"f\" sting method we can add more functionality inside the string itself\n",
        "\n",
        "message_2\n",
        "examples"
      ],
      "metadata": {
        "colab": {
          "base_uri": "https://localhost:8080/",
          "height": 35
        },
        "id": "uerN6LMEeUlJ",
        "outputId": "2d86a03e-b30e-407e-9315-3c5d04cc4197"
      },
      "execution_count": 37,
      "outputs": [
        {
          "output_type": "execute_result",
          "data": {
            "text/plain": [
              "'hello LONDON'"
            ],
            "application/vnd.google.colaboratory.intrinsic+json": {
              "type": "string"
            }
          },
          "metadata": {},
          "execution_count": 37
        }
      ]
    },
    {
      "cell_type": "markdown",
      "source": [
        "for help"
      ],
      "metadata": {
        "id": "c2l5OczWr3uK"
      }
    },
    {
      "cell_type": "code",
      "source": [
        " dir(name)"
      ],
      "metadata": {
        "id": "dVDljKTnpgAV"
      },
      "execution_count": null,
      "outputs": []
    },
    {
      "cell_type": "code",
      "source": [
        "help(str)"
      ],
      "metadata": {
        "id": "FchG1qoIr-x8"
      },
      "execution_count": null,
      "outputs": []
    },
    {
      "cell_type": "code",
      "source": [],
      "metadata": {
        "id": "K_dckqc-sEv4"
      },
      "execution_count": null,
      "outputs": []
    }
  ]
}