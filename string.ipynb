{
  "nbformat": 4,
  "nbformat_minor": 0,
  "metadata": {
    "colab": {
      "provenance": [],
      "toc_visible": true,
      "authorship_tag": "ABX9TyMUwKC2vnEK1x4rsjLU1ywZ",
      "include_colab_link": true
    },
    "kernelspec": {
      "name": "python3",
      "display_name": "Python 3"
    },
    "language_info": {
      "name": "python"
    }
  },
  "cells": [
    {
      "cell_type": "markdown",
      "metadata": {
        "id": "view-in-github",
        "colab_type": "text"
      },
      "source": [
        "<a href=\"https://colab.research.google.com/github/nithinpvarkey/python-Tutorials/blob/main/string.ipynb\" target=\"_parent\"><img src=\"https://colab.research.google.com/assets/colab-badge.svg\" alt=\"Open In Colab\"/></a>"
      ]
    },
    {
      "cell_type": "markdown",
      "source": [
        "# **Python Tutorials**"
      ],
      "metadata": {
        "id": "xaX1370iY2xj"
      }
    },
    {
      "cell_type": "markdown",
      "source": [
        "1. **String data**"
      ],
      "metadata": {
        "id": "0nvtzEozYsDE"
      }
    },
    {
      "cell_type": "code",
      "execution_count": 13,
      "metadata": {
        "colab": {
          "base_uri": "https://localhost:8080/"
        },
        "id": "efOPtGBvVlJS",
        "outputId": "ca2b7913-c599-4fb2-b083-81a6f443afd7"
      },
      "outputs": [
        {
          "output_type": "stream",
          "name": "stdout",
          "text": [
            "hello world\n"
          ]
        }
      ],
      "source": [
        "# using variable to store textual data( string)\n",
        "message = \"hello world\"\n",
        "print(message)"
      ]
    },
    {
      "cell_type": "code",
      "source": [
        "#length of the srting\n",
        "\n",
        "len(message)\n",
        "print(len(message))\n"
      ],
      "metadata": {
        "colab": {
          "base_uri": "https://localhost:8080/"
        },
        "id": "oor0edjtbYmd",
        "outputId": "d9f90f3d-0c75-4454-b549-4fa1b4e49fcb"
      },
      "execution_count": 10,
      "outputs": [
        {
          "output_type": "execute_result",
          "data": {
            "text/plain": [
              "12"
            ]
          },
          "metadata": {},
          "execution_count": 10
        }
      ]
    },
    {
      "cell_type": "code",
      "source": [
        "#access the characters in the string\n",
        "message[0]\n",
        "message[0:5]\n",
        "message[:5]"
      ],
      "metadata": {
        "colab": {
          "base_uri": "https://localhost:8080/",
          "height": 35
        },
        "id": "nZBclx4rcM5r",
        "outputId": "e80d2ee3-37e1-449d-8025-dc2852a065dd"
      },
      "execution_count": 18,
      "outputs": [
        {
          "output_type": "execute_result",
          "data": {
            "text/plain": [
              "'hello'"
            ],
            "application/vnd.google.colaboratory.intrinsic+json": {
              "type": "string"
            }
          },
          "metadata": {},
          "execution_count": 18
        }
      ]
    },
    {
      "cell_type": "code",
      "source": [
        "## function  vs method :  method is the function that belong to an object\n",
        "\n",
        "\n",
        "message.upper()\n",
        "message.count(\"world\")\n",
        "message.find(\"world\")\n",
        "\n",
        "# replace the value\n",
        "new_message = message.replace(\"world\",\"london\")\n",
        "new_message\n",
        "\n",
        "## add multiple string and concatenate together\n",
        "\n"
      ],
      "metadata": {
        "colab": {
          "base_uri": "https://localhost:8080/",
          "height": 35
        },
        "id": "1k4ebCGEdbe2",
        "outputId": "630b615c-18b5-4235-8e39-1c42c284ce79"
      },
      "execution_count": 25,
      "outputs": [
        {
          "output_type": "execute_result",
          "data": {
            "text/plain": [
              "'hello london'"
            ],
            "application/vnd.google.colaboratory.intrinsic+json": {
              "type": "string"
            }
          },
          "metadata": {},
          "execution_count": 25
        }
      ]
    },
    {
      "cell_type": "code",
      "source": [],
      "metadata": {
        "id": "uerN6LMEeUlJ"
      },
      "execution_count": null,
      "outputs": []
    }
  ]
}